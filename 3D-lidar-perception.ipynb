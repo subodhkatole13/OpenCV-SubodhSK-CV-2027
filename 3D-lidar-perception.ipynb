{
 "cells": [
  {
   "cell_type": "markdown",
   "id": "c458921d-bd82-4ca9-a50a-1da7b811917b",
   "metadata": {},
   "source": [
    "## 3D Point Cloud Simulation of 2D KITTI LiDAR Dataset using Open3D"
   ]
  },
  {
   "cell_type": "markdown",
   "id": "0684e2dd-722c-4c8c-9669-5af9db9387b4",
   "metadata": {},
   "source": [
    "### Code written by Pranav Durai"
   ]
  },
  {
   "cell_type": "code",
   "execution_count": 1,
   "id": "18d1a241-6e80-4aac-af47-6d8e4b0978e0",
   "metadata": {},
   "outputs": [],
   "source": [
    "# Import library functions\n",
    "import os\n",
    "import time\n",
    "import requests\n",
    "import math\n",
    "\n",
    "import matplotlib.pyplot as plt\n",
    "import numpy as np\n",
    "import open3d as o3d"
   ]
  },
  {
   "cell_type": "code",
   "execution_count": 2,
   "id": "b6cba583-59e1-481e-91d2-7879dda3acd5",
   "metadata": {},
   "outputs": [],
   "source": [
    "# Install necessary packages - Matplotlib, Numpy, and Open3D\n",
    "!pip install matplotlib numpy open3d   "
   ]
  },
  {
   "cell_type": "code",
   "execution_count": 3,
   "id": "347a7ef3-79f6-44b3-9848-fddf9157efa3",
   "metadata": {},
   "outputs": [],
   "source": [
    "# Function definition to download the dataset\n",
    "def download_dataset(url, local_filename):\n",
    "\n",
    "    # Update Dropbox link to force download\n",
    "    if \"www.dropbox.com\" in url and \"?dl=0\" in url:\n",
    "        url = url.replace(\"?dl=0\", \"?dl=1\")\n",
    "    \n",
    "    # Send a GET request to the URL\n",
    "    response = requests.get(url)\n",
    "    \n",
    "    # Check if the request was successful\n",
    "    if response.status_code == 200:\n",
    "        # Write the content of the response to a file\n",
    "        with open(local_filename, 'wb') as f:\n",
    "            f.write(response.content)\n",
    "        print(f\"File downloaded and saved as {local_filename}\")\n",
    "    else:\n",
    "        print(f\"Failed to download file. Status code: {response.status_code}\")"
   ]
  },
  {
   "cell_type": "code",
   "execution_count": 4,
   "id": "b403d428-3a5b-4077-94ae-9481ca76e16a",
   "metadata": {},
   "outputs": [],
   "source": [
    "# Download 2D KITTI Depth Frames Dataset \n",
    "download_dataset('https://www.dropbox.com/scl/fi/wfg0ta7kx57be15hw40wl/archive.zip?rlkey=fei6eqeucmbcbkw478dfsy7qg&dl=1', 'archive.zip')"
   ]
  },
  {
   "cell_type": "markdown",
   "id": "63b73e7c-26f3-484a-a123-6803dbea60ae",
   "metadata": {},
   "source": [
    "### Read 2D Depth Image\n",
    "\n",
    "The process begins by loading an image using `plt.imread` from the `matplotlib` library, with the image data being stored in the variable `depth_image`. Following this, a critical step involves setting a `depth_image_scaling_factor`, which is essential for converting the normalized depth values in the image into actual distance measurements. These measurements represent the real-world distances from the 3D LiDAR sensor to the objects in the scene. The value of this scaling factor is specifically tailored to align with the characteristics of the KITTI dataset. Lastly, an adjustment is made to the normalization process, transforming the normalized values into a more meaningful representation of actual distances, thereby enhancing the depth data's utility for further processing and analysis."
   ]
  },
  {
   "cell_type": "code",
   "execution_count": 5,
   "id": "73c714cc-48a3-482d-a651-97f59061d153",
   "metadata": {},
   "outputs": [],
   "source": [
    "# Read the 2D Depth Image\n",
    "def load_depth_image(file_path):\n",
    "    # Load the depth image\n",
    "    depth_image = plt.imread(file_path)\n",
    "\n",
    "    depth_image_scaling_factor = 250.0\n",
    "    # Assuming the depth image is normalized, we may need to scale it to the actual distance values\n",
    "    # This scaling factor is dataset-specific; you'll need to adjust it based on the KITTI dataset documentation\n",
    "    depth_image *= depth_image_scaling_factor\n",
    "    \n",
    "    return depth_image"
   ]
  },
  {
   "cell_type": "markdown",
   "id": "a8c84cf4-93c1-4ab9-9168-c025355a5849",
   "metadata": {},
   "source": [
    "### Load and Process Frames\n",
    "This function initializes a `point_clouds` list and iterates over depth image files in a specified `directory`, processing them in alphabetical or numerical order using `sorted(os.listdir(directory))`. It checks each file to ensure it is a PNG image with `filename.endswith('.png')` for consistent processing of depth image files. For each PNG file, the function constructs its full path, loads the depth image using `load_depth_image`, and then converts it into a point cloud using `depth_image_to_point_cloud`. This conversion transforms the 2D depth information into a 3D point cloud representation, which is appended to the `point_clouds` list. Finally, the function returns this list of point clouds after processing all PNG images in the directory."
   ]
  },
  {
   "cell_type": "code",
   "execution_count": 6,
   "id": "5a009075-73a6-4987-a7c1-76fa11c2f216",
   "metadata": {},
   "outputs": [],
   "source": [
    "def load_and_process_frames(directory):\n",
    "    point_clouds = []\n",
    "    for filename in sorted(os.listdir(directory)):\n",
    "        if filename.endswith('.png'):  # Check for PNG images\n",
    "            file_path = os.path.join(directory, filename)\n",
    "            depth_image = load_depth_image(file_path)\n",
    "            point_cloud = depth_image_to_point_cloud(depth_image)\n",
    "            point_clouds.append(point_cloud)\n",
    "    return point_clouds"
   ]
  },
  {
   "cell_type": "markdown",
   "id": "7d5f013e-a3bb-4549-9cb6-f7b0d9fea923",
   "metadata": {},
   "source": [
    "### Converting 2D Depth Frames into 3D Point Cloud\n",
    "This function processes a 2D depth image (`depth_image`) by first calculating horizontal (`h_angles`) and vertical (`v_angles`) angles using `np.linspace` within the specified horizontal (`h_fov`) and vertical (`v_fov`) fields of view, and converting these angles from degrees to radians. It then reshapes the horizontal angles to match the depth image's column count and the vertical angles to match its row count, allowing for broadcasting in subsequent calculations. Using trigonometric operations, it computes the x, y, and z coordinates for each point in the point cloud from the depth values, applying the angles. Points outside a specified distance range (`d_range`) are filtered out to maintain data relevance. Finally, the valid coordinates are stacked to form a 3D point cloud, suitable for three-dimensional visualization and analysis."
   ]
  },
  {
   "cell_type": "code",
   "execution_count": 7,
   "id": "b7972b66-8ffa-426c-b6fe-424502fba715",
   "metadata": {},
   "outputs": [],
   "source": [
    "def depth_image_to_point_cloud(depth_image, h_fov=(-90, 90), v_fov=(-24.9, 2.0), d_range=(0,100)):\n",
    "    # Adjusting angles for broadcasting\n",
    "    h_angles = np.deg2rad(np.linspace(h_fov[0], h_fov[1], depth_image.shape[1]))\n",
    "    v_angles = np.deg2rad(np.linspace(v_fov[0], v_fov[1], depth_image.shape[0]))\n",
    "\n",
    "    # Reshaping angles for broadcasting\n",
    "    h_angles = h_angles[np.newaxis, :]  # Shape becomes (1, 1440)\n",
    "    v_angles = v_angles[:, np.newaxis]  # Shape becomes (64, 1)\n",
    "\n",
    "    # Calculate x, y, and z\n",
    "    x = depth_image * np.sin(h_angles) * np.cos(v_angles)\n",
    "    y = depth_image * np.cos(h_angles) * np.cos(v_angles)\n",
    "    z = depth_image * np.sin(v_angles)\n",
    "\n",
    "    # Filter out points beyond the distance range\n",
    "    valid_indices = (depth_image >= d_range[0]) & (depth_image <= d_range[1])\n",
    "    \n",
    "    # Apply the mask to each coordinate array\n",
    "    x = x[valid_indices]\n",
    "    y = y[valid_indices]\n",
    "    z = z[valid_indices]\n",
    "\n",
    "    # Stack to get the point cloud\n",
    "    point_cloud = np.stack((x, y, z), axis=-1)\n",
    "\n",
    "    return point_cloud"
   ]
  },
  {
   "cell_type": "markdown",
   "id": "73e771ee-4123-42c0-ab61-7be78f244b36",
   "metadata": {},
   "source": [
    "### Simulate Point Cloud Representation\n",
    "The `animate_point_clouds` function initializes an Open3D Visualizer (`vis`) with a black background to display a list of point cloud data, `point_clouds`, where each list element represents a frame in the animation. It creates a new Open3D PointCloud object (`point_cloud`) and sets its points to the first frame for initial display. During the simulation loop, it cycles through the frames, updating the point cloud's points and the visualizer's geometry based on a set `update_interval`. User interactions and rendering updates are managed with `vis.poll_events()` and `vis.update_renderer()`. The simulation terminates and closes the visualizer window when `vis.poll_events()` returns False, indicating the user has closed the window."
   ]
  },
  {
   "cell_type": "markdown",
   "id": "726c3c7a-e8ca-4c89-99db-3a97d1800159",
   "metadata": {},
   "source": [
    "<img src=\"https://www.dropbox.com/scl/fi/uz0t97vn85u0ej9u7dfbh/POV-view-1.gif?rlkey=resp0390b0feqou04tiz8l0e6&dl=1\" width=\"800\">"
   ]
  },
  {
   "cell_type": "code",
   "execution_count": 8,
   "id": "31971e3a-a6b8-4852-8ed8-5d7081263e4f",
   "metadata": {},
   "outputs": [],
   "source": [
    "def animate_point_clouds(point_clouds):\n",
    "    vis = o3d.visualization.Visualizer()\n",
    "    vis.create_window()\n",
    "\n",
    "    # Set background color to black\n",
    "    vis.get_render_option().background_color = np.array([0, 0, 0])\n",
    "\n",
    "    # Initialize point cloud geometry\n",
    "    point_cloud = o3d.geometry.PointCloud()\n",
    "    point_cloud.points = o3d.utility.Vector3dVector(point_clouds[0])\n",
    "    vis.add_geometry(point_cloud)\n",
    "\n",
    "    frame_index = 0\n",
    "    last_update_time = time.time()\n",
    "    update_interval = 0.25  # Time in seconds between frame updates\n",
    "\n",
    "    while True:\n",
    "        current_time = time.time()\n",
    "        if current_time - last_update_time > update_interval:\n",
    "            # Update point cloud with new data\n",
    "            point_cloud.points = o3d.utility.Vector3dVector(point_clouds[frame_index])\n",
    "            vis.update_geometry(point_cloud)\n",
    "\n",
    "            # Move to the next frame\n",
    "            frame_index = (frame_index + 1) % len(point_clouds)\n",
    "            last_update_time = current_time\n",
    "\n",
    "        vis.poll_events()\n",
    "        vis.update_renderer()\n",
    "\n",
    "        if not vis.poll_events():\n",
    "            break\n",
    "\n",
    "    vis.destroy_window()"
   ]
  },
  {
   "cell_type": "code",
   "execution_count": null,
   "id": "236612d7-e807-48cf-a4d5-c617209bb43d",
   "metadata": {},
   "outputs": [
    {
     "name": "stdout",
     "output_type": "stream",
     "text": [
      "\u001b[1;33m[Open3D WARNING] GLFW Error: Cocoa: Failed to find service port for display\u001b[0;m\n",
      "\u001b[1;33m[Open3D WARNING] GLFW Error: Cocoa: Failed to find service port for display\u001b[0;m\n",
      "\u001b[1;33m[Open3D WARNING] GLFW Error: Cocoa: Failed to find service port for display\u001b[0;m\n",
      "\u001b[1;33m[Open3D WARNING] GLFW Error: Cocoa: Failed to find service port for display\u001b[0;m\n",
      "\u001b[1;33m[Open3D WARNING] GLFW Error: Cocoa: Failed to find service port for display\u001b[0;m\n",
      "\u001b[1;33m[Open3D WARNING] GLFW Error: Cocoa: Failed to find service port for display\u001b[0;m\n"
     ]
    }
   ],
   "source": [
    "# Directory containing the depth image files\n",
    "directory = 'archive/2011_09_30_drive_0028_sync/2011_09_30_drive_0028_sync/2011_09_30/2011_09_30_drive_0028_sync/velodyne_points/depth_images'\n",
    "\n",
    "# Load and process the frames\n",
    "point_clouds = load_and_process_frames(directory)\n",
    "\n",
    "# Simulate the point clouds\n",
    "animate_point_clouds(point_clouds)"
   ]
  }
 ],
 "metadata": {
  "kernelspec": {
   "display_name": "Python 3 (ipykernel)",
   "language": "python",
   "name": "python3"
  },
  "language_info": {
   "codemirror_mode": {
    "name": "ipython",
    "version": 3
   },
   "file_extension": ".py",
   "mimetype": "text/x-python",
   "name": "python",
   "nbconvert_exporter": "python",
   "pygments_lexer": "ipython3",
   "version": "3.9.18"
  }
 },
 "nbformat": 4,
 "nbformat_minor": 5
}
